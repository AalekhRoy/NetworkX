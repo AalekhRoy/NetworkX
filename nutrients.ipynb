{
 "cells": [
  {
   "cell_type": "markdown",
   "metadata": {},
   "source": [
    "# NetworkX for Network Analysis\n",
    "\n",
    "NetworkX project begins with importing the module \"networkx\" as nx(as per the conevention)."
   ]
  },
  {
   "cell_type": "code",
   "execution_count": 139,
   "metadata": {},
   "outputs": [],
   "source": [
    "import networkx as nx"
   ]
  },
  {
   "cell_type": "markdown",
   "metadata": {},
   "source": [
    "# Create a Graph\n",
    "## Undirected  graph"
   ]
  },
  {
   "cell_type": "code",
   "execution_count": 140,
   "metadata": {},
   "outputs": [],
   "source": [
    "G=nx.Graph()"
   ]
  },
  {
   "cell_type": "markdown",
   "metadata": {},
   "source": [
    "# Directed Graph"
   ]
  },
  {
   "cell_type": "code",
   "execution_count": 141,
   "metadata": {},
   "outputs": [],
   "source": [
    "G = nx.DiGraph()"
   ]
  },
  {
   "cell_type": "markdown",
   "metadata": {},
   "source": [
    "# Convert a Diagraph into Undirected graph"
   ]
  },
  {
   "cell_type": "code",
   "execution_count": 142,
   "metadata": {},
   "outputs": [],
   "source": [
    "F = nx.Graph() #F is undirected here"
   ]
  },
  {
   "cell_type": "markdown",
   "metadata": {},
   "source": [
    "> However, one should remember that the original diagraph and the converted undirected graph are different.\n"
   ]
  },
  {
   "cell_type": "markdown",
   "metadata": {},
   "source": [
    "# Multigraphs\n",
    "\n",
    "They are like undirected graphs, but can have paralled edges between same nodes. The parallel edges may represent different relationships between the nodes."
   ]
  },
  {
   "cell_type": "code",
   "execution_count": 143,
   "metadata": {},
   "outputs": [],
   "source": [
    "G = nx.MultiGraph()"
   ]
  },
  {
   "cell_type": "markdown",
   "metadata": {},
   "source": [
    "# Directed Multigraph\n",
    "\n",
    "Directed graphs with multiple parallel edges."
   ]
  },
  {
   "cell_type": "code",
   "execution_count": 144,
   "metadata": {},
   "outputs": [],
   "source": [
    "G = nx.MultiDiGraph()"
   ]
  },
  {
   "cell_type": "markdown",
   "metadata": {},
   "source": [
    "# Add or Remove Nodes and Edges\n",
    "\n",
    "NetworkX provides several mechanisms for adding nodes and edges to an\n",
    "existing graph: one by one, from a list or another graph. Likewise, you can\n",
    "remove nodes or edges one by one or by using a list. Node and edge manipulations are subject to the following rules:\n",
    "\n",
    "• Adding an edge to a graph also ensures that its ends are added if they\n",
    "did not exist before.\n",
    "\n",
    "• Adding a duplicate node or edge is silently ignored unless the graph is a\n",
    "multigraph; in the latter case, an additional parallel edge is created.\n",
    "\n",
    "• Removing an edge does not remove its end nodes.\n",
    "\n",
    "• Removing a node removes all incident edges.\n",
    "\n",
    "• Removing a single non-existent node or edge raises a NetworkXError exception,\n",
    "but if the node or edge is a part of a list, then an error is silently ignored."
   ]
  },
  {
   "cell_type": "markdown",
   "metadata": {},
   "source": [
    "We will use our own fictional data to build the network of foods and nutrients, and we will use every method of adding nodes mentioned above."
   ]
  },
  {
   "cell_type": "code",
   "execution_count": 145,
   "metadata": {},
   "outputs": [],
   "source": [
    "G = nx.Graph([(\"A\", \"eggs\"),])\n",
    "G.add_node(\"spinach\") # Add a single node\n",
    "G.add_node(\"Hg\") # Add a single node by mistake\n",
    "G.add_nodes_from([\"folates\", \"asparagus\", \"liver\"]) # Add a list of nodes\n",
    "G.add_edge(\"spinach\", \"folates\") # Add one edge, both ends exist\n",
    "G.add_edge(\"spinach\", \"heating oil\") # Add one edge by mistake\n",
    "G.add_edge(\"liver\", \"Se\") # Add one edge, one end does not exist\n",
    "G.add_edges_from([(\"folates\", \"liver\"), (\"folates\", \"asparagus\")])"
   ]
  },
  {
   "cell_type": "markdown",
   "metadata": {},
   "source": [
    "To demonstrate how to remove certain nodes from a graph, we added some nodes that are irrelevant to our graph. Now, we will remove all those nodes using the methods disussed above."
   ]
  },
  {
   "cell_type": "code",
   "execution_count": 146,
   "metadata": {},
   "outputs": [],
   "source": [
    "G.remove_node(\"Hg\")\n",
    "G.remove_nodes_from([\"Hg\",]) # Safe to remove a missing node using a list\n",
    "G.remove_edge(\"spinach\", \"heating oil\")\n",
    "G.remove_edges_from([(\"spinach\", \"heating oil\"), ]) # See above\n",
    "G.remove_node(\"heating oil\") # Not removed yet"
   ]
  },
  {
   "cell_type": "markdown",
   "metadata": {},
   "source": [
    "**We can use the method *G.clear()* to delete each grph nodes and corresponding edges at once, but this still keeps the graph shell.**"
   ]
  },
  {
   "cell_type": "markdown",
   "metadata": {},
   "source": [
    "# Exploring nodes and edge lists\n",
    "\n",
    "To access nodes and edges of a graph, there are two objects and two methods i.e **G.nodes** and **G.edges** which stores the nodes and the edges as lists and then we have methods G.nodes() and G.edges(). The methods return node and edge lists if called without any parameters.\n",
    "\n"
   ]
  },
  {
   "cell_type": "code",
   "execution_count": 147,
   "metadata": {},
   "outputs": [
    {
     "name": "stdout",
     "output_type": "stream",
     "text": [
      "['A', 'eggs', 'spinach', 'folates', 'asparagus', 'liver', 'Se']\n",
      "[('A', 'eggs'), ('spinach', 'folates'), ('folates', 'liver'), ('folates', 'asparagus'), ('liver', 'Se')]\n",
      "['A', 'eggs', 'spinach', 'folates', 'asparagus', 'liver', 'Se']\n",
      "[('A', 'eggs'), ('spinach', 'folates'), ('folates', 'liver'), ('folates', 'asparagus'), ('liver', 'Se')]\n"
     ]
    }
   ],
   "source": [
    "print(G.nodes) #Printing object\n",
    "print(G.edges)\n",
    "print(G.nodes())# calling the methods\n",
    "print(G.edges())"
   ]
  },
  {
   "cell_type": "markdown",
   "metadata": {},
   "source": [
    "We can use the optional parameter *data=True* to get the lists with the additional attribute."
   ]
  },
  {
   "cell_type": "code",
   "execution_count": 148,
   "metadata": {},
   "outputs": [
    {
     "name": "stdout",
     "output_type": "stream",
     "text": [
      "[('A', {}), ('eggs', {}), ('spinach', {}), ('folates', {}), ('asparagus', {}), ('liver', {}), ('Se', {})]\n"
     ]
    }
   ],
   "source": [
    "print(G.nodes(data=True))"
   ]
  },
  {
   "cell_type": "code",
   "execution_count": 149,
   "metadata": {},
   "outputs": [
    {
     "name": "stdout",
     "output_type": "stream",
     "text": [
      "[('A', 'eggs', {}), ('spinach', 'folates', {}), ('folates', 'liver', {}), ('folates', 'asparagus', {}), ('liver', 'Se', {})]\n"
     ]
    }
   ],
   "source": [
    "print(G.edges(data=True))"
   ]
  },
  {
   "cell_type": "markdown",
   "metadata": {},
   "source": [
    "In orer to find the number of nodes and edges, we can measure the length of the returned lists or dictionaries. **len(G)** function can also be used for the number of nodes in G  as a quick fix."
   ]
  },
  {
   "cell_type": "code",
   "execution_count": 150,
   "metadata": {},
   "outputs": [
    {
     "name": "stdout",
     "output_type": "stream",
     "text": [
      "7\n"
     ]
    }
   ],
   "source": [
    "print(len(G)) #number of nodes in G"
   ]
  },
  {
   "cell_type": "code",
   "execution_count": 151,
   "metadata": {},
   "outputs": [
    {
     "data": {
      "image/png": "[encoded data removed]",
      "text/plain": [
       "<Figure size 432x288 with 1 Axes>"
      ]
     },
     "metadata": {},
     "output_type": "display_data"
    }
   ],
   "source": [
    "nx.draw(G,with_labels = True)#draw the network"
   ]
  },
  {
   "cell_type": "markdown",
   "metadata": {},
   "source": [
    "# Read as Network data from a CSV\n",
    "\n",
    "Most of the times our network data would be stored in popular data format, such as CSV files. We need to access the CSV file and read the network data and construct the graph object."
   ]
  },
  {
   "cell_type": "markdown",
   "metadata": {},
   "source": [
    "We will use some python magic to open the csv file, then read the data from it. We have used *nutrients.csv* file, which is stored at the desired location on hard dirve.\n",
    "\n",
    "It takes oly three lines of code to open the edge list file, create a CSV reader for the file, and put the list of pairs into the *Graph* constructor."
   ]
  },
  {
   "cell_type": "code",
   "execution_count": 152,
   "metadata": {},
   "outputs": [
    {
     "name": "stdout",
     "output_type": "stream",
     "text": [
      "['A', 'carrots', 'eggs', 'fatty fish', 'green leafy vegs', 'liver', 'milk', 'tomatoes', 'B12', 'B6', 'asparagus', 'beans', 'kidneys', 'potatoes', 'C', 'pumpkins', 'Ca', 'broccoli', 'cheese', 'Cu', 'nuts', 'whole grains', 'D', 'mushrooms', 'E', 'seeds', 'Mn', 'legumes', 'wheat', 'Se', 'Zn', 'beef', 'riboflavin', 'niacin', 'folates', 'spinach', 'poultry', 'shellfish', 'thiamin', 'veg oils', 'yogurt']\n",
      "\n",
      " [('A', 'carrots'), ('A', 'eggs'), ('A', 'fatty fish'), ('A', 'green leafy vegs'), ('A', 'liver'), ('A', 'milk'), ('A', 'tomatoes'), ('carrots', 'C'), ('eggs', 'B12'), ('eggs', 'riboflavin'), ('fatty fish', 'B6'), ('fatty fish', 'D'), ('fatty fish', 'B12'), ('fatty fish', 'niacin'), ('green leafy vegs', 'Mn'), ('green leafy vegs', 'C'), ('green leafy vegs', 'Ca'), ('green leafy vegs', 'E'), ('green leafy vegs', 'riboflavin'), ('liver', 'B6'), ('liver', 'Cu'), ('liver', 'folates'), ('liver', 'Se'), ('liver', 'Zn'), ('milk', 'B12'), ('milk', 'D'), ('milk', 'Ca'), ('milk', 'riboflavin'), ('tomatoes', 'C'), ('tomatoes', 'tomatoes'), ('B12', 'beef'), ('B12', 'poultry'), ('B6', 'asparagus'), ('B6', 'beans'), ('B6', 'kidneys'), ('B6', 'potatoes'), ('B6', 'beef'), ('B6', 'poultry'), ('asparagus', 'folates'), ('beans', 'Zn'), ('beans', 'Cu'), ('kidneys', 'Se'), ('kidneys', 'Zn'), ('kidneys', 'Cu'), ('potatoes', 'Zn'), ('potatoes', 'Cu'), ('C', 'pumpkins'), ('C', 'broccoli'), ('Ca', 'broccoli'), ('Ca', 'cheese'), ('Ca', 'yogurt'), ('Cu', 'nuts'), ('Cu', 'whole grains'), ('Cu', 'shellfish'), ('nuts', 'E'), ('nuts', 'Mn'), ('nuts', 'niacin'), ('nuts', 'Zn'), ('whole grains', 'Mn'), ('whole grains', 'niacin'), ('whole grains', 'thiamin'), ('D', 'mushrooms'), ('E', 'seeds'), ('E', 'veg oils'), ('seeds', 'Mn'), ('seeds', 'niacin'), ('Mn', 'legumes'), ('Mn', 'wheat'), ('legumes', 'riboflavin'), ('Se', 'shellfish'), ('Zn', 'beef'), ('Zn', 'poultry'), ('beef', 'riboflavin'), ('beef', 'niacin'), ('folates', 'spinach')]\n"
     ]
    }
   ],
   "source": [
    "import networkx as nx\n",
    "import matplotlib.pyplot as plt\n",
    "import csv\n",
    "\n",
    "with open(\"nutrients.csv\") as infile:\n",
    "    csv_reader = csv.reader(infile)\n",
    "    G=nx.Graph(csv_reader)\n",
    "print(G.nodes())\n",
    "print(\"\\n\",G.edges)"
   ]
  },
  {
   "cell_type": "code",
   "execution_count": 153,
   "metadata": {},
   "outputs": [
    {
     "data": {
      "image/png": "[encoded data removed]",
      "text/plain": [
       "<Figure size 432x288 with 1 Axes>"
      ]
     },
     "metadata": {},
     "output_type": "display_data"
    }
   ],
   "source": [
    "nx.draw(G,with_labels=True)"
   ]
  },
  {
   "cell_type": "markdown",
   "metadata": {},
   "source": [
    "We can use a function class to find out number of self-loops in the network."
   ]
  },
  {
   "cell_type": "code",
   "execution_count": 154,
   "metadata": {},
   "outputs": [
    {
     "data": {
      "text/plain": [
       "1"
      ]
     },
     "execution_count": 154,
     "metadata": {},
     "output_type": "execute_result"
    }
   ],
   "source": [
    "nx.number_of_selfloops(G) #find out number of self loops"
   ]
  },
  {
   "cell_type": "markdown",
   "metadata": {},
   "source": [
    "We can add a selfloop to the network by using the *G.add_edge()* method by passing the names of a node as a list i.e *('tomatoes','tomatoes')*."
   ]
  },
  {
   "cell_type": "code",
   "execution_count": 155,
   "metadata": {},
   "outputs": [],
   "source": [
    "G.add_edge('tomatoes','tomatoes')"
   ]
  },
  {
   "cell_type": "markdown",
   "metadata": {},
   "source": [
    "Now we can *list(nx.selfloop_edges())* with parameter G,  to get the self loop in form of a list as above. We store this list under a object and then use *print command* to display the self loop edges."
   ]
  },
  {
   "cell_type": "code",
   "execution_count": 156,
   "metadata": {},
   "outputs": [
    {
     "name": "stdout",
     "output_type": "stream",
     "text": [
      "[('tomatoes', 'tomatoes')]\n"
     ]
    }
   ],
   "source": [
    "loops=list(nx.selfloop_edges(G))\n",
    "print(loops)"
   ]
  },
  {
   "cell_type": "markdown",
   "metadata": {},
   "source": [
    "We can also remove the self-llops using the *loops* object as the parameter of"
   ]
  },
  {
   "cell_type": "code",
   "execution_count": 157,
   "metadata": {},
   "outputs": [
    {
     "name": "stdout",
     "output_type": "stream",
     "text": [
      "[]\n"
     ]
    }
   ],
   "source": [
    "G.remove_edges_from(loops) #Remove the loops from the object\n",
    "loops=list(nx.selfloop_edges(G)) #create a list of selfloop edges\n",
    "print(loops) #Display the list which is now empty in the output"
   ]
  },
  {
   "cell_type": "markdown",
   "metadata": {},
   "source": [
    "# Relabel nodes\n",
    "\n",
    "Our network looks promising but it can use some cosmetic manipulation to make it look better. We can capitalize all node names. *NetworkX* provides method *nx.relabel_nodes()* that takes parameters as graph(G) and a dictionary of old and new labels and either gives a copy of the graph *(copy=True, default)* or modifies the graph itself *(copy=False)*.\n",
    "\n",
    "We will use dictionary comprehension to iterate over all network nodes and convert those labeled with strings to the title case using *str.title()* method."
   ]
  },
  {
   "cell_type": "code",
   "execution_count": 158,
   "metadata": {},
   "outputs": [
    {
     "name": "stdout",
     "output_type": "stream",
     "text": [
      "['A', 'B12', 'B6', 'C', 'Ca', 'Cu', 'D', 'E', 'Mn', 'Se', 'Zn', 'Carrots', 'Eggs', 'Fatty Fish', 'Green Leafy Vegs', 'Liver', 'Milk', 'Tomatoes', 'Asparagus', 'Beans', 'Kidneys', 'Potatoes', 'Pumpkins', 'Broccoli', 'Cheese', 'Nuts', 'Whole Grains', 'Mushrooms', 'Seeds', 'Legumes', 'Wheat', 'Beef', 'Riboflavin', 'Niacin', 'Folates', 'Spinach', 'Poultry', 'Shellfish', 'Thiamin', 'Veg Oils', 'Yogurt']\n"
     ]
    }
   ],
   "source": [
    "mapping = {node: node.title() for node in G if isinstance(node, str)} #create a dictionary via iterating over all nodes in g and also capitalize the first letter using .title() if the node label is a string\n",
    "nx.relabel_nodes(G, mapping, copy=False) #use networkx method to relable the nodes with capitalized first letter labels\n",
    "print(G.nodes()) #print updated node labels as lists"
   ]
  },
  {
   "cell_type": "markdown",
   "metadata": {},
   "source": [
    "If you noticed that G acts as a node iterator in above snippet. G also has some other *dict()* features. For example, we can also use *selection operator[]* to access the edges incident to the node, and their attributes"
   ]
  },
  {
   "cell_type": "code",
   "execution_count": 159,
   "metadata": {},
   "outputs": [
    {
     "name": "stdout",
     "output_type": "stream",
     "text": [
      "{'Liver': {}, 'Beans': {}, 'Kidneys': {}, 'Potatoes': {}, 'Nuts': {}, 'Beef': {}, 'Poultry': {}}\n"
     ]
    }
   ],
   "source": [
    "print(G[\"Zn\"]) #returns a dictionary with node labels related to Zn"
   ]
  },
  {
   "cell_type": "markdown",
   "metadata": {},
   "source": [
    "Our network does not have any attributes yet. We can now add some."
   ]
  },
  {
   "cell_type": "code",
   "execution_count": null,
   "metadata": {},
   "outputs": [],
   "source": []
  }
 ],
 "metadata": {
  "kernelspec": {
   "display_name": "Python 3",
   "language": "python",
   "name": "python3"
  },
  "language_info": {
   "codemirror_mode": {
    "name": "ipython",
    "version": 3
   },
   "file_extension": ".py",
   "mimetype": "text/x-python",
   "name": "python",
   "nbconvert_exporter": "python",
   "pygments_lexer": "ipython3",
   "version": "3.8.5"
  }
 },
 "nbformat": 4,
 "nbformat_minor": 4
}
